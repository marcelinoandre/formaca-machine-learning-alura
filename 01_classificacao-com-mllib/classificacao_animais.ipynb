{
 "cells": [
  {
   "cell_type": "markdown",
   "metadata": {},
   "source": [
    "# Classificação de animais com Pyspark/MLLib"
   ]
  },
  {
   "cell_type": "code",
   "execution_count": 35,
   "metadata": {},
   "outputs": [
    {
     "data": {
      "text/html": [
       "\n",
       "            <div>\n",
       "                <p><b>SparkSession - in-memory</b></p>\n",
       "                \n",
       "        <div>\n",
       "            <p><b>SparkContext</b></p>\n",
       "\n",
       "            <p><a href=\"http://192.168.0.133:4040\">Spark UI</a></p>\n",
       "\n",
       "            <dl>\n",
       "              <dt>Version</dt>\n",
       "                <dd><code>v3.2.1</code></dd>\n",
       "              <dt>Master</dt>\n",
       "                <dd><code>local[*]</code></dd>\n",
       "              <dt>AppName</dt>\n",
       "                <dd><code>classificação-animais</code></dd>\n",
       "            </dl>\n",
       "        </div>\n",
       "        \n",
       "            </div>\n",
       "        "
      ],
      "text/plain": [
       "<pyspark.sql.session.SparkSession at 0x7f991042afb0>"
      ]
     },
     "execution_count": 35,
     "metadata": {},
     "output_type": "execute_result"
    }
   ],
   "source": [
    "from pyspark.sql import SparkSession\n",
    "\n",
    "from pyspark.ml.classification import LinearSVC\n",
    "from pyspark.ml.linalg import Vectors\n",
    "\n",
    "\n",
    "spark = (\n",
    "    SparkSession\n",
    "    .builder\n",
    "    .appName('classificação-animais')\n",
    "    .getOrCreate()\n",
    ")\n",
    "spark"
   ]
  },
  {
   "cell_type": "code",
   "execution_count": 42,
   "metadata": {},
   "outputs": [],
   "source": [
    "# features (1 sim, 0 não)\n",
    "# pelo longo?\n",
    "# perna curta?\n",
    "# faz auau?\n",
    "porco1 = [0, 1, 0]\n",
    "porco2 = [0, 1, 1]\n",
    "porco3 = [1, 1, 0]\n",
    "\n",
    "cachorro1 = [0, 1, 1]\n",
    "cachorro2 = [1, 0, 1]\n",
    "cachorro3 = [1, 1, 1]\n",
    "\n",
    "misterio1 = [1, 1 ,1]\n",
    "misterio2 = [1, 1, 0]\n",
    "misterio3 = [0, 1, 1]"
   ]
  },
  {
   "cell_type": "code",
   "execution_count": 38,
   "metadata": {},
   "outputs": [
    {
     "data": {
      "text/html": [
       "<table border='1'>\n",
       "<tr><th>label</th><th>features</th></tr>\n",
       "<tr><td>1.0</td><td>[0.0,1.0,0.0]</td></tr>\n",
       "<tr><td>1.0</td><td>[0.0,1.0,1.0]</td></tr>\n",
       "<tr><td>1.0</td><td>[1.0,1.0,0.0]</td></tr>\n",
       "<tr><td>0.0</td><td>[0.0,1.0,1.0]</td></tr>\n",
       "<tr><td>0.0</td><td>[1.0,0.0,1.0]</td></tr>\n",
       "<tr><td>0.0</td><td>[1.0,1.0,1.0]</td></tr>\n",
       "</table>\n"
      ],
      "text/plain": [
       "+-----+-------------+\n",
       "|label|     features|\n",
       "+-----+-------------+\n",
       "|  1.0|[0.0,1.0,0.0]|\n",
       "|  1.0|[0.0,1.0,1.0]|\n",
       "|  1.0|[1.0,1.0,0.0]|\n",
       "|  0.0|[0.0,1.0,1.0]|\n",
       "|  0.0|[1.0,0.0,1.0]|\n",
       "|  0.0|[1.0,1.0,1.0]|\n",
       "+-----+-------------+"
      ]
     },
     "execution_count": 38,
     "metadata": {},
     "output_type": "execute_result"
    }
   ],
   "source": [
    "# Criando o dataset de treino\n",
    "\n",
    "data = [(1.0, Vectors.dense(porco1)),\n",
    "        (1.0, Vectors.dense(porco2)),\n",
    "        (1.0, Vectors.dense(porco3)),\n",
    "        (0.0, Vectors.dense(cachorro1)),\n",
    "        (0.0, Vectors.dense(cachorro2)),\n",
    "        (0.0, Vectors.dense(cachorro3))\n",
    "        ]\n",
    "df_treino = spark.createDataFrame(data, [\"label\", \"features\"])\n",
    "\n",
    "df_treino\n"
   ]
  },
  {
   "cell_type": "code",
   "execution_count": 17,
   "metadata": {},
   "outputs": [
    {
     "data": {
      "text/plain": [
       "LinearSVCModel: uid=LinearSVC_a9a55b28fa6d, numClasses=2, numFeatures=3"
      ]
     },
     "execution_count": 17,
     "metadata": {},
     "output_type": "execute_result"
    }
   ],
   "source": [
    "# Criando o modelo\n",
    "\n",
    "modelo = LinearSVC(\n",
    "    featuresCol = 'features',\n",
    "    labelCol = 'label'\n",
    ").fit(df_treino)\n",
    "\n",
    "modelo"
   ]
  },
  {
   "cell_type": "code",
   "execution_count": 55,
   "metadata": {},
   "outputs": [
    {
     "data": {
      "text/html": [
       "<table border='1'>\n",
       "<tr><th>label</th><th>features</th></tr>\n",
       "<tr><td>0</td><td>[1.0,1.0,1.0]</td></tr>\n",
       "<tr><td>1</td><td>[1.0,1.0,0.0]</td></tr>\n",
       "<tr><td>1</td><td>[0.0,1.0,1.0]</td></tr>\n",
       "</table>\n"
      ],
      "text/plain": [
       "+-----+-------------+\n",
       "|label|     features|\n",
       "+-----+-------------+\n",
       "|    0|[1.0,1.0,1.0]|\n",
       "|    1|[1.0,1.0,0.0]|\n",
       "|    1|[0.0,1.0,1.0]|\n",
       "+-----+-------------+"
      ]
     },
     "execution_count": 55,
     "metadata": {},
     "output_type": "execute_result"
    }
   ],
   "source": [
    "data_test = [\n",
    "    (0, Vectors.dense(1, 1, 1)),\n",
    "    (1, Vectors.dense(1, 1, 0)),\n",
    "    (1, Vectors.dense(0, 1, 1)),\n",
    "]\n",
    "\n",
    "df_test = spark.createDataFrame(data_test, [\"label\", \"features\"])\n",
    "df_test"
   ]
  },
  {
   "cell_type": "code",
   "execution_count": 59,
   "metadata": {},
   "outputs": [
    {
     "data": {
      "text/html": [
       "<table border='1'>\n",
       "<tr><th>label</th><th>features</th><th>rawPrediction</th><th>prediction</th></tr>\n",
       "<tr><td>0</td><td>[1.0,1.0,1.0]</td><td>[1.21210806892682...</td><td>0.0</td></tr>\n",
       "<tr><td>1</td><td>[1.0,1.0,0.0]</td><td>[-1.4463090443872...</td><td>1.0</td></tr>\n",
       "<tr><td>1</td><td>[0.0,1.0,1.0]</td><td>[0.38966043675672...</td><td>0.0</td></tr>\n",
       "</table>\n"
      ],
      "text/plain": [
       "+-----+-------------+--------------------+----------+\n",
       "|label|     features|       rawPrediction|prediction|\n",
       "+-----+-------------+--------------------+----------+\n",
       "|    0|[1.0,1.0,1.0]|[1.21210806892682...|       0.0|\n",
       "|    1|[1.0,1.0,0.0]|[-1.4463090443872...|       1.0|\n",
       "|    1|[0.0,1.0,1.0]|[0.38966043675672...|       0.0|\n",
       "+-----+-------------+--------------------+----------+"
      ]
     },
     "execution_count": 59,
     "metadata": {},
     "output_type": "execute_result"
    }
   ],
   "source": [
    "previsao = modelo.transform(df_test)\n",
    "\n",
    "previsao"
   ]
  },
  {
   "cell_type": "code",
   "execution_count": 41,
   "metadata": {},
   "outputs": [
    {
     "name": "stdout",
     "output_type": "stream",
     "text": [
      "0.0\n",
      "1.0\n",
      "0.0\n"
     ]
    }
   ],
   "source": [
    "# Testando o modelo\n",
    "\n",
    "print(modelo.predict(Vectors.dense(misterio1)) )\n",
    "print(modelo.predict(Vectors.dense(misterio2)) )\n",
    "print(modelo.predict(Vectors.dense(misterio3)) )"
   ]
  },
  {
   "cell_type": "code",
   "execution_count": null,
   "metadata": {},
   "outputs": [],
   "source": []
  }
 ],
 "metadata": {
  "kernelspec": {
   "display_name": "Python 3.10.4 ('bigdata-venv')",
   "language": "python",
   "name": "python3"
  },
  "language_info": {
   "codemirror_mode": {
    "name": "ipython",
    "version": 3
   },
   "file_extension": ".py",
   "mimetype": "text/x-python",
   "name": "python",
   "nbconvert_exporter": "python",
   "pygments_lexer": "ipython3",
   "version": "3.10.4"
  },
  "orig_nbformat": 4,
  "vscode": {
   "interpreter": {
    "hash": "acca0d8e9c4fdfd3142cf008cdb82be03c9a2364b3c6436281c023e5f90db747"
   }
  }
 },
 "nbformat": 4,
 "nbformat_minor": 2
}
